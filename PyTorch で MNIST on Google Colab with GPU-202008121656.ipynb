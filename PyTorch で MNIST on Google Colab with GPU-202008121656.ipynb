{
  "nbformat": 4,
  "nbformat_minor": 0,
  "metadata": {
    "colab": {
      "name": "Colaboratory へようこそ",
      "provenance": [],
      "collapsed_sections": [],
      "include_colab_link": true
    },
    "kernelspec": {
      "display_name": "Python 3",
      "name": "python3"
    },
    "accelerator": "GPU"
  },
  "cells": [
    {
      "cell_type": "markdown",
      "metadata": {
        "id": "view-in-github",
        "colab_type": "text"
      },
      "source": [
        "<a href=\"https://colab.research.google.com/github/matchbou/Public/blob/master/PyTorch%20%E3%81%A6%E3%82%99%20MNIST%20on%20Google%20Colab%20with%20GPU-202008121656.ipynb\" target=\"_parent\"><img src=\"https://colab.research.google.com/assets/colab-badge.svg\" alt=\"Open In Colab\"/></a>"
      ]
    },
    {
      "cell_type": "code",
      "metadata": {
        "id": "qg3W6kifiwBw",
        "colab_type": "code",
        "colab": {}
      },
      "source": [
        "#https://qiita.com/knyrc/items/0a0092b9903b97fb41b4\n"
      ],
      "execution_count": null,
      "outputs": []
    },
    {
      "cell_type": "code",
      "metadata": {
        "id": "TWLDOsM4i76v",
        "colab_type": "code",
        "colab": {
          "base_uri": "https://localhost:8080/",
          "height": 175
        },
        "outputId": "90099694-bfb9-47cc-81e7-ac233b515603"
      },
      "source": [
        "## 0. PyTorch と scikit-learn のインストール\n",
        "\n",
        "!pip install torch torchvision\n",
        "!pip install scikit-learn"
      ],
      "execution_count": null,
      "outputs": [
        {
          "output_type": "stream",
          "text": [
            "Requirement already satisfied: torch in /usr/local/lib/python3.6/dist-packages (1.6.0+cu101)\n",
            "Requirement already satisfied: torchvision in /usr/local/lib/python3.6/dist-packages (0.7.0+cu101)\n",
            "Requirement already satisfied: numpy in /usr/local/lib/python3.6/dist-packages (from torch) (1.18.5)\n",
            "Requirement already satisfied: future in /usr/local/lib/python3.6/dist-packages (from torch) (0.16.0)\n",
            "Requirement already satisfied: pillow>=4.1.1 in /usr/local/lib/python3.6/dist-packages (from torchvision) (7.0.0)\n",
            "Requirement already satisfied: scikit-learn in /usr/local/lib/python3.6/dist-packages (0.22.2.post1)\n",
            "Requirement already satisfied: scipy>=0.17.0 in /usr/local/lib/python3.6/dist-packages (from scikit-learn) (1.4.1)\n",
            "Requirement already satisfied: joblib>=0.11 in /usr/local/lib/python3.6/dist-packages (from scikit-learn) (0.16.0)\n",
            "Requirement already satisfied: numpy>=1.11.0 in /usr/local/lib/python3.6/dist-packages (from scikit-learn) (1.18.5)\n"
          ],
          "name": "stdout"
        }
      ]
    },
    {
      "cell_type": "code",
      "metadata": {
        "id": "NX8Kz-VVj5Wn",
        "colab_type": "code",
        "colab": {}
      },
      "source": [
        "# 1. ライブラリインポートと学習データのダウンロード\n",
        "\n",
        "import torch\n",
        "import matplotlib.pyplot as plt\n",
        "from sklearn.datasets import fetch_openml\n",
        "\n",
        "device = torch.device(\"cuda\" if torch.cuda.is_available() else \"cpu\")\n",
        "X, y = fetch_openml('mnist_784', version=1, return_X_y=True)\n",
        "X = X / 255\n",
        "y = [float(s) for s in y]"
      ],
      "execution_count": null,
      "outputs": []
    },
    {
      "cell_type": "code",
      "metadata": {
        "id": "9tyXjvIAkD0Q",
        "colab_type": "code",
        "colab": {
          "base_uri": "https://localhost:8080/",
          "height": 282
        },
        "outputId": "99e37678-95b9-4764-800b-aca53933c3d9"
      },
      "source": [
        "# 学習データの表示例\n",
        "\n",
        "plt.imshow(X[7].reshape(28,28), cmap=plt.cm.gray)\n",
        "print(\"{:.0f}\".format(y[7]))"
      ],
      "execution_count": null,
      "outputs": [
        {
          "output_type": "stream",
          "text": [
            "3\n"
          ],
          "name": "stdout"
        },
        {
          "output_type": "display_data",
          "data": {
            "image/png": "[encoded data removed]",
            "text/plain": [
              "<Figure size 432x288 with 1 Axes>"
            ]
          },
          "metadata": {
            "tags": [],
            "needs_background": "light"
          }
        }
      ]
    },
    {
      "cell_type": "code",
      "metadata": {
        "id": "yzS9JKv5kS7N",
        "colab_type": "code",
        "colab": {
          "base_uri": "https://localhost:8080/",
          "height": 35
        },
        "outputId": "2455f48c-1cd5-4941-c11a-edc12946c23d"
      },
      "source": [
        "# 2. DataLoader作成\n",
        "\n",
        "from torch.utils.data import TensorDataset, DataLoader\n",
        "from sklearn.model_selection import train_test_split\n",
        "\n",
        "X_train, X_test, y_train, y_test = train_test_split(X, y, test_size=1/7, random_state=0)\n",
        "\n",
        "print(type(y_train[0]))\n",
        "\n",
        "X_train = torch.Tensor(X_train)\n",
        "X_test = torch.Tensor(X_test)\n",
        "y_train = torch.LongTensor(y_train)\n",
        "y_test = torch.LongTensor(y_test)\n",
        "\n",
        "ds_train = TensorDataset(X_train, y_train)\n",
        "ds_test = TensorDataset(X_test, y_test)\n",
        "\n",
        "loader_train = DataLoader(ds_train, batch_size=64, shuffle=True)\n",
        "loader_test = DataLoader(ds_test, batch_size=64, shuffle=False)"
      ],
      "execution_count": null,
      "outputs": [
        {
          "output_type": "stream",
          "text": [
            "<class 'float'>\n"
          ],
          "name": "stdout"
        }
      ]
    },
    {
      "cell_type": "code",
      "metadata": {
        "id": "TxuJAF12kgcL",
        "colab_type": "code",
        "colab": {
          "base_uri": "https://localhost:8080/",
          "height": 140
        },
        "outputId": "82d84f49-c4ea-451e-a30b-4500cdc140ba"
      },
      "source": [
        "# 3. ネットワーク構築\n",
        "\n",
        "from torch import nn\n",
        "\n",
        "model = nn.Sequential()\n",
        "model.add_module('fc1', nn.Linear(28*28*1, 100))\n",
        "model.add_module('relu1', nn.ReLU())\n",
        "model.add_module('fc2', nn.Linear(100, 100))\n",
        "model.add_module('relu2', nn.ReLU())\n",
        "model.add_module('fc3', nn.Linear(100, 10))\n",
        "\n",
        "model.to(device)\n",
        "print(model)"
      ],
      "execution_count": null,
      "outputs": [
        {
          "output_type": "stream",
          "text": [
            "Sequential(\n",
            "  (fc1): Linear(in_features=784, out_features=100, bias=True)\n",
            "  (relu1): ReLU()\n",
            "  (fc2): Linear(in_features=100, out_features=100, bias=True)\n",
            "  (relu2): ReLU()\n",
            "  (fc3): Linear(in_features=100, out_features=10, bias=True)\n",
            ")\n"
          ],
          "name": "stdout"
        }
      ]
    },
    {
      "cell_type": "code",
      "metadata": {
        "id": "B34tfV-OkoTw",
        "colab_type": "code",
        "colab": {}
      },
      "source": [
        "# 4. 誤差関数と最適化手法の設定\n",
        "\n",
        "from torch import optim\n",
        "\n",
        "loss_fn = nn.CrossEntropyLoss()\n",
        "optimizer = optim.Adam(model.parameters(), lr=0.01)"
      ],
      "execution_count": null,
      "outputs": []
    },
    {
      "cell_type": "code",
      "metadata": {
        "id": "3tHmDHSUkrZ-",
        "colab_type": "code",
        "colab": {}
      },
      "source": [
        "# 5. 学習の設定\n",
        "\n",
        "def train(epoch):\n",
        "  model.train()\n",
        "\n",
        "  for data, targets in loader_train:\n",
        "    data, targets = data.cuda(), targets.cuda()\n",
        "\n",
        "    optimizer.zero_grad()\n",
        "    outputs = model(data)\n",
        "    loss = loss_fn(outputs, targets)\n",
        "\n",
        "    loss.backward()\n",
        "    optimizer.step()\n",
        "\n",
        "  print(\"epoch{}:終了\\n\".format(epoch))"
      ],
      "execution_count": null,
      "outputs": []
    },
    {
      "cell_type": "code",
      "metadata": {
        "id": "Zf6hV1qOkxdD",
        "colab_type": "code",
        "colab": {}
      },
      "source": [
        "# 6. 推論の設定\n",
        "\n",
        "def test():\n",
        "  model.eval()\n",
        "  correct = 0\n",
        "\n",
        "  with torch.no_grad():\n",
        "    for data, targets in loader_test:\n",
        "      data, targets = data.cuda(), targets.cuda()\n",
        "\n",
        "      outputs = model(data)\n",
        "\n",
        "      _, predicted = torch.max(outputs.data, 1)\n",
        "      correct += predicted.eq(targets.data.view_as(predicted)).sum()\n",
        "\n",
        "  data_num = len(loader_test.dataset)\n",
        "  print('\\nテストデータの正解率：{}/{}({:.0f}%)\\n'.format(correct, data_num, 100. * correct /data_num))"
      ],
      "execution_count": null,
      "outputs": []
    },
    {
      "cell_type": "code",
      "metadata": {
        "id": "DvJjDdzrk9Oc",
        "colab_type": "code",
        "colab": {
          "base_uri": "https://localhost:8080/",
          "height": 70
        },
        "outputId": "73bba5bf-aa06-4774-b1ca-36fdf3cebc77"
      },
      "source": [
        "# 学習前のテストデータ正解率\n",
        "\n",
        "test()"
      ],
      "execution_count": null,
      "outputs": [
        {
          "output_type": "stream",
          "text": [
            "\n",
            "テストデータの正解率：843/10000(8%)\n",
            "\n"
          ],
          "name": "stdout"
        }
      ]
    },
    {
      "cell_type": "code",
      "metadata": {
        "id": "wdJnddeilBT6",
        "colab_type": "code",
        "colab": {
          "base_uri": "https://localhost:8080/",
          "height": 175
        },
        "outputId": "c5ba2249-bfd4-4177-e7e4-aa0df8418d4b"
      },
      "source": [
        "# 7. 学習後のテストデータ正解率\n",
        "\n",
        "for epoch in range(3):\n",
        "  train(epoch)\n",
        "\n",
        "test()"
      ],
      "execution_count": null,
      "outputs": [
        {
          "output_type": "stream",
          "text": [
            "epoch0:終了\n",
            "\n",
            "epoch1:終了\n",
            "\n",
            "epoch2:終了\n",
            "\n",
            "\n",
            "テストデータの正解率：9592/10000(96%)\n",
            "\n"
          ],
          "name": "stdout"
        }
      ]
    },
    {
      "cell_type": "code",
      "metadata": {
        "id": "K51eHmIvlHZ4",
        "colab_type": "code",
        "colab": {
          "base_uri": "https://localhost:8080/",
          "height": 300
        },
        "outputId": "a693edaf-e26a-408d-e30f-5f96a02d4cae"
      },
      "source": [
        "# 8. 2019番目データの予測と正解結果の確認\n",
        "\n",
        "index = 2019\n",
        "\n",
        "model.eval()\n",
        "data = X_test[index]\n",
        "data = data.cuda()\n",
        "output = model(data)\n",
        "_, predicted = torch.max(output.data, 0)\n",
        "\n",
        "print(\"予測結果は{}\".format(predicted))\n",
        "\n",
        "X_test_show = (X_test[index]).numpy()\n",
        "plt.imshow(X_test_show.reshape(28, 28), cmap='gray')\n",
        "print(\"この画像データの正解ラベルは{:.0f}です\".format(y_test[index]))"
      ],
      "execution_count": null,
      "outputs": [
        {
          "output_type": "stream",
          "text": [
            "予測結果は2\n",
            "この画像データの正解ラベルは2です\n"
          ],
          "name": "stdout"
        },
        {
          "output_type": "display_data",
          "data": {
            "image/png": "[encoded data removed]",
            "text/plain": [
              "<Figure size 432x288 with 1 Axes>"
            ]
          },
          "metadata": {
            "tags": [],
            "needs_background": "light"
          }
        }
      ]
    },
    {
      "cell_type": "code",
      "metadata": {
        "id": "j5G4m2IOlOFb",
        "colab_type": "code",
        "colab": {
          "base_uri": "https://localhost:8080/",
          "height": 35
        },
        "outputId": "f53d6a7c-fdec-4481-e88a-cdb0962f3c3e"
      },
      "source": [
        "# 利用した PyTorch のバージョン\n",
        "\n",
        "print(torch.__version__)"
      ],
      "execution_count": null,
      "outputs": [
        {
          "output_type": "stream",
          "text": [
            "1.6.0+cu101\n"
          ],
          "name": "stdout"
        }
      ]
    }
  ]
}