{
  "nbformat": 4,
  "nbformat_minor": 0,
  "metadata": {
    "colab": {
      "name": "Colaboratory へようこそ",
      "version": "0.3.2",
      "provenance": [],
      "collapsed_sections": [],
      "include_colab_link": true
    },
    "kernelspec": {
      "name": "python3",
      "display_name": "Python 3"
    },
    "accelerator": "GPU"
  },
  "cells": [
    {
      "cell_type": "markdown",
      "metadata": {
        "id": "view-in-github",
        "colab_type": "text"
      },
      "source": [
        "<a href=\"https://colab.research.google.com/github/matchbou/Public/blob/master/RenormOnGoogleColabFailed20190709aa.ipynb\" target=\"_parent\"><img src=\"https://colab.research.google.com/assets/colab-badge.svg\" alt=\"Open In Colab\"/></a>"
      ]
    },
    {
      "cell_type": "code",
      "metadata": {
        "id": "8cztwed651Ii",
        "colab_type": "code",
        "colab": {}
      },
      "source": [
        "!mkdir ./git"
      ],
      "execution_count": 0,
      "outputs": []
    },
    {
      "cell_type": "code",
      "metadata": {
        "id": "UU9jVFnN5xuq",
        "colab_type": "code",
        "colab": {
          "base_uri": "https://localhost:8080/",
          "height": 36
        },
        "outputId": "6d967720-0600-4f99-917a-527ec14271bf"
      },
      "source": [
        "!pwd"
      ],
      "execution_count": 28,
      "outputs": [
        {
          "output_type": "stream",
          "text": [
            "/content/git\n"
          ],
          "name": "stdout"
        }
      ]
    },
    {
      "cell_type": "code",
      "metadata": {
        "id": "I5EsCsLb5uzj",
        "colab_type": "code",
        "colab": {
          "base_uri": "https://localhost:8080/",
          "height": 36
        },
        "outputId": "a22ccda7-b0a2-4661-b08d-80b926f9fa10"
      },
      "source": [
        "!ls"
      ],
      "execution_count": 21,
      "outputs": [
        {
          "output_type": "stream",
          "text": [
            "dtc  dtc.svg  fig1.png\tfig2.png  fig3.png  git  sample_data\n"
          ],
          "name": "stdout"
        }
      ]
    },
    {
      "cell_type": "code",
      "metadata": {
        "id": "h7994k9z5-iK",
        "colab_type": "code",
        "colab": {
          "base_uri": "https://localhost:8080/",
          "height": 36
        },
        "outputId": "3982cc3d-bcbe-44b9-b63a-874532bfbcb6"
      },
      "source": [
        "%cd /content/git"
      ],
      "execution_count": 27,
      "outputs": [
        {
          "output_type": "stream",
          "text": [
            "/content/git\n"
          ],
          "name": "stdout"
        }
      ]
    },
    {
      "cell_type": "code",
      "metadata": {
        "id": "hFcdDKTf3ocv",
        "colab_type": "code",
        "colab": {
          "base_uri": "https://localhost:8080/",
          "height": 148
        },
        "outputId": "98ac0596-0b17-44ac-b2ab-52858b53fc5a"
      },
      "source": [
        "!git clone https://github.com/ReNom-dev-team/ReNom.git"
      ],
      "execution_count": 29,
      "outputs": [
        {
          "output_type": "stream",
          "text": [
            "Cloning into 'ReNom'...\n",
            "remote: Enumerating objects: 3, done.\u001b[K\n",
            "remote: Counting objects: 100% (3/3), done.\u001b[K\n",
            "remote: Compressing objects: 100% (3/3), done.\u001b[K\n",
            "remote: Total 32504 (delta 0), reused 1 (delta 0), pack-reused 32501\u001b[K\n",
            "Receiving objects: 100% (32504/32504), 28.72 MiB | 8.34 MiB/s, done.\n",
            "Resolving deltas: 100% (9501/9501), done.\n"
          ],
          "name": "stdout"
        }
      ]
    },
    {
      "cell_type": "code",
      "metadata": {
        "id": "7kzDRyb668Lb",
        "colab_type": "code",
        "colab": {
          "base_uri": "https://localhost:8080/",
          "height": 36
        },
        "outputId": "bf03ad33-643d-4d18-bb61-453ccaacbadb"
      },
      "source": [
        "%cd ReNom"
      ],
      "execution_count": 30,
      "outputs": [
        {
          "output_type": "stream",
          "text": [
            "/content/git/ReNom\n"
          ],
          "name": "stdout"
        }
      ]
    },
    {
      "cell_type": "code",
      "metadata": {
        "id": "JvZNqAYL7BI7",
        "colab_type": "code",
        "colab": {
          "base_uri": "https://localhost:8080/",
          "height": 1000
        },
        "outputId": "94037279-f950-4478-882b-829d434ac677"
      },
      "source": [
        "!python setup.py build_ext -f -i"
      ],
      "execution_count": 31,
      "outputs": [
        {
          "output_type": "stream",
          "text": [
            "running build_ext\n",
            "building 'cuda_misc_a' library\n",
            "creating build\n",
            "creating build/temp.linux-x86_64-3.6\n",
            "creating build/temp.linux-x86_64-3.6/renom\n",
            "creating build/temp.linux-x86_64-3.6/renom/cuda\n",
            "creating build/temp.linux-x86_64-3.6/renom/cuda/thrust\n",
            "nvcc --device-c -c --compiler-options -pthread,-DNDEBUG,-g,-fwrapv,-O2,-Wall,-g,-fstack-protector-strong,-Wformat,-Werror=format-security,-Wdate-time,-D_FORTIFY_SOURCE=2,-fPIC -arch=sm_30 -I/usr/local/lib/python3.6/dist-packages/numpy/core/include -I/usr/include/python3.6m -c renom/cuda/thrust/thrust_funcs_float.cu -o build/temp.linux-x86_64-3.6/renom/cuda/thrust/thrust_funcs_float.o\n",
            "\u001b[01m\u001b[Krenom/cuda/thrust/thrust_funcs.inl:\u001b[m\u001b[K In function ‘\u001b[01m\u001b[Kvoid renom::thrust_forward_lstm_activate(int, int, VALUE_TYPE*)\u001b[m\u001b[K’:\n",
            "\u001b[01m\u001b[Krenom/cuda/thrust/thrust_funcs.inl:1599:7:\u001b[m\u001b[K \u001b[01;35m\u001b[Kwarning: \u001b[m\u001b[K‘\u001b[01m\u001b[K*\u001b[m\u001b[K’ in boolean context, suggest ‘\u001b[01m\u001b[K&&\u001b[m\u001b[K’ instead [\u001b[01;35m\u001b[K-Wint-in-bool-context\u001b[m\u001b[K]\n",
            "     \u001b[01;35m\u001b[K     \u001b[m\u001b[K   if (N * M) {\n",
            "       \u001b[01;35m\u001b[K^\u001b[m\u001b[K  \n",
            "\u001b[01m\u001b[Krenom/cuda/thrust/thrust_funcs.inl:\u001b[m\u001b[K In function ‘\u001b[01m\u001b[Kvoid renom::thrust_forward_lstm(int, int, VALUE_TYPE*, VALUE_TYPE*, VALUE_TYPE*, VALUE_TYPE*)\u001b[m\u001b[K’:\n",
            "\u001b[01m\u001b[Krenom/cuda/thrust/thrust_funcs.inl:1622:7:\u001b[m\u001b[K \u001b[01;35m\u001b[Kwarning: \u001b[m\u001b[K‘\u001b[01m\u001b[K*\u001b[m\u001b[K’ in boolean context, suggest ‘\u001b[01m\u001b[K&&\u001b[m\u001b[K’ instead [\u001b[01;35m\u001b[K-Wint-in-bool-context\u001b[m\u001b[K]\n",
            "     \u001b[01;35m\u001b[K     \u001b[m\u001b[K   if (N * M) {\n",
            "       \u001b[01;35m\u001b[K^\u001b[m\u001b[K  \n",
            "\u001b[01m\u001b[Krenom/cuda/thrust/thrust_funcs.inl:\u001b[m\u001b[K In function ‘\u001b[01m\u001b[Kvoid renom::thrust_backward_lstm_activate(int, int, VALUE_TYPE*)\u001b[m\u001b[K’:\n",
            "\u001b[01m\u001b[Krenom/cuda/thrust/thrust_funcs.inl:1652:7:\u001b[m\u001b[K \u001b[01;35m\u001b[Kwarning: \u001b[m\u001b[K‘\u001b[01m\u001b[K*\u001b[m\u001b[K’ in boolean context, suggest ‘\u001b[01m\u001b[K&&\u001b[m\u001b[K’ instead [\u001b[01;35m\u001b[K-Wint-in-bool-context\u001b[m\u001b[K]\n",
            "     \u001b[01;35m\u001b[K     \u001b[m\u001b[K   if (N*M) {\n",
            "       \u001b[01;35m\u001b[K^\u001b[m\u001b[K  \n",
            "\u001b[01m\u001b[Krenom/cuda/thrust/thrust_funcs.inl:\u001b[m\u001b[K In function ‘\u001b[01m\u001b[Kvoid renom::thrust_backward_lstm(int, int, VALUE_TYPE*, VALUE_TYPE*, VALUE_TYPE*, VALUE_TYPE*, VALUE_TYPE*, VALUE_TYPE*, VALUE_TYPE*, VALUE_TYPE*)\u001b[m\u001b[K’:\n",
            "\u001b[01m\u001b[Krenom/cuda/thrust/thrust_funcs.inl:1681:7:\u001b[m\u001b[K \u001b[01;35m\u001b[Kwarning: \u001b[m\u001b[K‘\u001b[01m\u001b[K*\u001b[m\u001b[K’ in boolean context, suggest ‘\u001b[01m\u001b[K&&\u001b[m\u001b[K’ instead [\u001b[01;35m\u001b[K-Wint-in-bool-context\u001b[m\u001b[K]\n",
            "     \u001b[01;35m\u001b[K     \u001b[m\u001b[K   if (N*M) {\n",
            "       \u001b[01;35m\u001b[K^\u001b[m\u001b[K  \n",
            "\u001b[01m\u001b[Krenom/cuda/thrust/thrust_funcs.inl:\u001b[m\u001b[K In function ‘\u001b[01m\u001b[Kvoid renom::thrust_forward_peephole_lstm(int, int, VALUE_TYPE*, VALUE_TYPE*, VALUE_TYPE*, VALUE_TYPE*, VALUE_TYPE*)\u001b[m\u001b[K’:\n",
            "\u001b[01m\u001b[Krenom/cuda/thrust/thrust_funcs.inl:1730:7:\u001b[m\u001b[K \u001b[01;35m\u001b[Kwarning: \u001b[m\u001b[K‘\u001b[01m\u001b[K*\u001b[m\u001b[K’ in boolean context, suggest ‘\u001b[01m\u001b[K&&\u001b[m\u001b[K’ instead [\u001b[01;35m\u001b[K-Wint-in-bool-context\u001b[m\u001b[K]\n",
            "     \u001b[01;35m\u001b[K    i\u001b[m\u001b[Kf (N*M) {\n",
            "       \u001b[01;35m\u001b[K^\u001b[m\u001b[K \u001b[01;35m\u001b[K~\u001b[m\u001b[K\n",
            "\u001b[01m\u001b[Krenom/cuda/thrust/thrust_funcs.inl:\u001b[m\u001b[K In function ‘\u001b[01m\u001b[Kvoid renom::thrust_backward_peephole_lstm(int, int, VALUE_TYPE*, VALUE_TYPE*, VALUE_TYPE*, VALUE_TYPE*, VALUE_TYPE*, VALUE_TYPE*, VALUE_TYPE*, VALUE_TYPE*, VALUE_TYPE*, VALUE_TYPE*, VALUE_TYPE*)\u001b[m\u001b[K’:\n",
            "\u001b[01m\u001b[Krenom/cuda/thrust/thrust_funcs.inl:1805:7:\u001b[m\u001b[K \u001b[01;35m\u001b[Kwarning: \u001b[m\u001b[K‘\u001b[01m\u001b[K*\u001b[m\u001b[K’ in boolean context, suggest ‘\u001b[01m\u001b[K&&\u001b[m\u001b[K’ instead [\u001b[01;35m\u001b[K-Wint-in-bool-context\u001b[m\u001b[K]\n",
            "     \u001b[01;35m\u001b[K    i\u001b[m\u001b[Kf (N * M) {\n",
            "       \u001b[01;35m\u001b[K^\u001b[m\u001b[K \u001b[01;35m\u001b[K~\u001b[m\u001b[K\n",
            "nvcc --device-c -c --compiler-options -pthread,-DNDEBUG,-g,-fwrapv,-O2,-Wall,-g,-fstack-protector-strong,-Wformat,-Werror=format-security,-Wdate-time,-D_FORTIFY_SOURCE=2,-fPIC -arch=sm_30 -I/usr/local/lib/python3.6/dist-packages/numpy/core/include -I/usr/include/python3.6m -c renom/cuda/thrust/thrust_funcs_double.cu -o build/temp.linux-x86_64-3.6/renom/cuda/thrust/thrust_funcs_double.o\n",
            "\u001b[01m\u001b[Krenom/cuda/thrust/thrust_funcs.inl:\u001b[m\u001b[K In function ‘\u001b[01m\u001b[Kvoid renom::thrust_forward_lstm_activate(int, int, VALUE_TYPE*)\u001b[m\u001b[K’:\n",
            "\u001b[01m\u001b[Krenom/cuda/thrust/thrust_funcs.inl:1599:7:\u001b[m\u001b[K \u001b[01;35m\u001b[Kwarning: \u001b[m\u001b[K‘\u001b[01m\u001b[K*\u001b[m\u001b[K’ in boolean context, suggest ‘\u001b[01m\u001b[K&&\u001b[m\u001b[K’ instead [\u001b[01;35m\u001b[K-Wint-in-bool-context\u001b[m\u001b[K]\n",
            "     \u001b[01;35m\u001b[K     \u001b[m\u001b[K   if (N * M) {\n",
            "       \u001b[01;35m\u001b[K^\u001b[m\u001b[K  \n",
            "\u001b[01m\u001b[Krenom/cuda/thrust/thrust_funcs.inl:\u001b[m\u001b[K In function ‘\u001b[01m\u001b[Kvoid renom::thrust_forward_lstm(int, int, VALUE_TYPE*, VALUE_TYPE*, VALUE_TYPE*, VALUE_TYPE*)\u001b[m\u001b[K’:\n",
            "\u001b[01m\u001b[Krenom/cuda/thrust/thrust_funcs.inl:1622:7:\u001b[m\u001b[K \u001b[01;35m\u001b[Kwarning: \u001b[m\u001b[K‘\u001b[01m\u001b[K*\u001b[m\u001b[K’ in boolean context, suggest ‘\u001b[01m\u001b[K&&\u001b[m\u001b[K’ instead [\u001b[01;35m\u001b[K-Wint-in-bool-context\u001b[m\u001b[K]\n",
            "     \u001b[01;35m\u001b[K     \u001b[m\u001b[K   if (N * M) {\n",
            "       \u001b[01;35m\u001b[K^\u001b[m\u001b[K  \n",
            "\u001b[01m\u001b[Krenom/cuda/thrust/thrust_funcs.inl:\u001b[m\u001b[K In function ‘\u001b[01m\u001b[Kvoid renom::thrust_backward_lstm_activate(int, int, VALUE_TYPE*)\u001b[m\u001b[K’:\n",
            "\u001b[01m\u001b[Krenom/cuda/thrust/thrust_funcs.inl:1652:7:\u001b[m\u001b[K \u001b[01;35m\u001b[Kwarning: \u001b[m\u001b[K‘\u001b[01m\u001b[K*\u001b[m\u001b[K’ in boolean context, suggest ‘\u001b[01m\u001b[K&&\u001b[m\u001b[K’ instead [\u001b[01;35m\u001b[K-Wint-in-bool-context\u001b[m\u001b[K]\n",
            "     \u001b[01;35m\u001b[K     \u001b[m\u001b[K   if (N*M) {\n",
            "       \u001b[01;35m\u001b[K^\u001b[m\u001b[K  \n",
            "\u001b[01m\u001b[Krenom/cuda/thrust/thrust_funcs.inl:\u001b[m\u001b[K In function ‘\u001b[01m\u001b[Kvoid renom::thrust_backward_lstm(int, int, VALUE_TYPE*, VALUE_TYPE*, VALUE_TYPE*, VALUE_TYPE*, VALUE_TYPE*, VALUE_TYPE*, VALUE_TYPE*, VALUE_TYPE*)\u001b[m\u001b[K’:\n",
            "\u001b[01m\u001b[Krenom/cuda/thrust/thrust_funcs.inl:1681:7:\u001b[m\u001b[K \u001b[01;35m\u001b[Kwarning: \u001b[m\u001b[K‘\u001b[01m\u001b[K*\u001b[m\u001b[K’ in boolean context, suggest ‘\u001b[01m\u001b[K&&\u001b[m\u001b[K’ instead [\u001b[01;35m\u001b[K-Wint-in-bool-context\u001b[m\u001b[K]\n",
            "     \u001b[01;35m\u001b[K     \u001b[m\u001b[K   if (N*M) {\n",
            "       \u001b[01;35m\u001b[K^\u001b[m\u001b[K  \n",
            "\u001b[01m\u001b[Krenom/cuda/thrust/thrust_funcs.inl:\u001b[m\u001b[K In function ‘\u001b[01m\u001b[Kvoid renom::thrust_forward_peephole_lstm(int, int, VALUE_TYPE*, VALUE_TYPE*, VALUE_TYPE*, VALUE_TYPE*, VALUE_TYPE*)\u001b[m\u001b[K’:\n",
            "\u001b[01m\u001b[Krenom/cuda/thrust/thrust_funcs.inl:1730:7:\u001b[m\u001b[K \u001b[01;35m\u001b[Kwarning: \u001b[m\u001b[K‘\u001b[01m\u001b[K*\u001b[m\u001b[K’ in boolean context, suggest ‘\u001b[01m\u001b[K&&\u001b[m\u001b[K’ instead [\u001b[01;35m\u001b[K-Wint-in-bool-context\u001b[m\u001b[K]\n",
            "     \u001b[01;35m\u001b[K    i\u001b[m\u001b[Kf (N*M) {\n",
            "       \u001b[01;35m\u001b[K^\u001b[m\u001b[K \u001b[01;35m\u001b[K~\u001b[m\u001b[K\n",
            "\u001b[01m\u001b[Krenom/cuda/thrust/thrust_funcs.inl:\u001b[m\u001b[K In function ‘\u001b[01m\u001b[Kvoid renom::thrust_backward_peephole_lstm(int, int, VALUE_TYPE*, VALUE_TYPE*, VALUE_TYPE*, VALUE_TYPE*, VALUE_TYPE*, VALUE_TYPE*, VALUE_TYPE*, VALUE_TYPE*, VALUE_TYPE*, VALUE_TYPE*, VALUE_TYPE*)\u001b[m\u001b[K’:\n",
            "\u001b[01m\u001b[Krenom/cuda/thrust/thrust_funcs.inl:1805:7:\u001b[m\u001b[K \u001b[01;35m\u001b[Kwarning: \u001b[m\u001b[K‘\u001b[01m\u001b[K*\u001b[m\u001b[K’ in boolean context, suggest ‘\u001b[01m\u001b[K&&\u001b[m\u001b[K’ instead [\u001b[01;35m\u001b[K-Wint-in-bool-context\u001b[m\u001b[K]\n",
            "     \u001b[01;35m\u001b[K    i\u001b[m\u001b[Kf (N * M) {\n",
            "       \u001b[01;35m\u001b[K^\u001b[m\u001b[K \u001b[01;35m\u001b[K~\u001b[m\u001b[K\n",
            "nvcc --lib --compiler-options rcs -arch=sm_30 --output-file build/temp.linux-x86_64-3.6/libcuda_misc_a.a build/temp.linux-x86_64-3.6/renom/cuda/thrust/thrust_funcs_float.o build/temp.linux-x86_64-3.6/renom/cuda/thrust/thrust_funcs_double.o\n",
            "cythoning renom/cuda/base/cuda_base.pyx to renom/cuda/base/cuda_base.cpp\n",
            "/usr/local/lib/python3.6/dist-packages/Cython/Compiler/Main.py:367: FutureWarning: Cython directive 'language_level' not set, using 2 for now (Py2). This will change in a later release! File: /content/git/ReNom/renom/cuda/base/cuda_base.pxd\n",
            "  tree = Parsing.p_module(s, pxd, full_module_name)\n",
            "building 'renom.cuda.base.cuda_base' extension\n",
            "creating build/temp.linux-x86_64-3.6/renom/cuda/base\n",
            "x86_64-linux-gnu-gcc -pthread -DNDEBUG -g -fwrapv -O2 -Wall -g -fstack-protector-strong -Wformat -Werror=format-security -Wdate-time -D_FORTIFY_SOURCE=2 -fPIC -I/usr/local/cuda/include -I/usr/local/lib/python3.6/dist-packages/numpy/core/include -I/usr/include/python3.6m -c renom/cuda/base/cuda_base.cpp -o build/temp.linux-x86_64-3.6/renom/cuda/base/cuda_base.o\n",
            "In file included from \u001b[01m\u001b[K/usr/local/lib/python3.6/dist-packages/numpy/core/include/numpy/ndarraytypes.h:1822:0\u001b[m\u001b[K,\n",
            "                 from \u001b[01m\u001b[K/usr/local/lib/python3.6/dist-packages/numpy/core/include/numpy/ndarrayobject.h:12\u001b[m\u001b[K,\n",
            "                 from \u001b[01m\u001b[K/usr/local/lib/python3.6/dist-packages/numpy/core/include/numpy/arrayobject.h:4\u001b[m\u001b[K,\n",
            "                 from \u001b[01m\u001b[Krenom/cuda/base/cuda_base.cpp:616\u001b[m\u001b[K:\n",
            "\u001b[01m\u001b[K/usr/local/lib/python3.6/dist-packages/numpy/core/include/numpy/npy_1_7_deprecated_api.h:17:2:\u001b[m\u001b[K \u001b[01;35m\u001b[Kwarning: \u001b[m\u001b[K#warning \"Using deprecated NumPy API, disable it with \" \"#define NPY_NO_DEPRECATED_API NPY_1_7_API_VERSION\" [\u001b[01;35m\u001b[K-Wcpp\u001b[m\u001b[K]\n",
            " #\u001b[01;35m\u001b[Kwarning\u001b[m\u001b[K \"Using deprecated NumPy API, disable it with \" \\\n",
            "  \u001b[01;35m\u001b[K^~~~~~~\u001b[m\u001b[K\n",
            "\u001b[01m\u001b[Krenom/cuda/base/cuda_base.cpp:\u001b[m\u001b[K In function ‘\u001b[01m\u001b[Kvoid __pyx_f_5renom_4cuda_4base_9cuda_base_cuMemcpyH2Dvar(void*, uintptr_t, int, uintptr_t)\u001b[m\u001b[K’:\n",
            "\u001b[01m\u001b[Krenom/cuda/base/cuda_base.cpp:7389:30:\u001b[m\u001b[K \u001b[01;35m\u001b[Kwarning: \u001b[m\u001b[Kcomparison between signed and unsigned integer expressions [\u001b[01;35m\u001b[K-Wsign-compare\u001b[m\u001b[K]\n",
            "   __pyx_t_2 = ((\u001b[01;35m\u001b[K__pyx_v_size <= __pyx_v_5renom_4cuda_4base_9cuda_base_pin_size\u001b[m\u001b[K) != 0);\n",
            "                 \u001b[01;35m\u001b[K~~~~~~~~~~~~~^~~~~~~~~~~~~~~~~~~~~~~~~~~~~~~~~~~~~~~~~~~~~~~~~\u001b[m\u001b[K\n",
            "\u001b[01m\u001b[Krenom/cuda/base/cuda_base.cpp:\u001b[m\u001b[K In function ‘\u001b[01m\u001b[KPyObject* __pyx_pf_5renom_4cuda_4base_9cuda_base_58cuMemcpyD2HAsync(PyObject*, uintptr_t, PyArrayObject*, int, int)\u001b[m\u001b[K’:\n",
            "\u001b[01m\u001b[Krenom/cuda/base/cuda_base.cpp:7653:289:\u001b[m\u001b[K \u001b[01;35m\u001b[Kwarning: \u001b[m\u001b[Kcast to pointer from integer of different size [\u001b[01;35m\u001b[K-Wint-to-pointer-cast\u001b[m\u001b[K]\n",
            "   __pyx_t_3 = __Pyx_PyInt_From_cudaError_t(cudaMemcpyAsync((&(*__Pyx_BufPtrCContig1d(float *, __pyx_pybuffernd_cpu_ptr.rcbuffer->pybuffer.buf, __pyx_t_1, __pyx_pybuffernd_cpu_ptr.diminfo[0].strides))), ((void const *)__pyx_v_gpu_ptr), __pyx_v_size, cudaMemcpyDeviceToHost, ((cudaStream_t)\u001b[01;35m\u001b[K__pyx_v_stream\u001b[m\u001b[K))); if (unlikely(!__pyx_t_3)) __PYX_ERR(0, 357, __pyx_L1_error)\n",
            "                                                                                                                                                                                                                                                                                                 \u001b[01;35m\u001b[K^~~~~~~~~~~~~~\u001b[m\u001b[K\n",
            "\u001b[01m\u001b[Krenom/cuda/base/cuda_base.cpp:\u001b[m\u001b[K In function ‘\u001b[01m\u001b[KPyObject* __pyx_f_5renom_4cuda_4base_9cuda_base_cuMemcpyD2DAsync(uintptr_t, uintptr_t, int, int, __pyx_opt_args_5renom_4cuda_4base_9cuda_base_cuMemcpyD2DAsync*)\u001b[m\u001b[K’:\n",
            "\u001b[01m\u001b[Krenom/cuda/base/cuda_base.cpp:7729:177:\u001b[m\u001b[K \u001b[01;35m\u001b[Kwarning: \u001b[m\u001b[Kcast to pointer from integer of different size [\u001b[01;35m\u001b[K-Wint-to-pointer-cast\u001b[m\u001b[K]\n",
            "   __pyx_t_1 = __Pyx_PyInt_From_cudaError_t(cudaMemcpyAsync(((void *)__pyx_v_gpu_ptr2), ((void const *)__pyx_v_gpu_ptr1), __pyx_v_size, cudaMemcpyDeviceToDevice, ((cudaStream_t)\u001b[01;35m\u001b[K__pyx_v_stream\u001b[m\u001b[K))); if (unlikely(!__pyx_t_1)) __PYX_ERR(0, 363, __pyx_L1_error)\n",
            "                                                                                                                                                                                 \u001b[01;35m\u001b[K^~~~~~~~~~~~~~\u001b[m\u001b[K\n",
            "\u001b[01m\u001b[Krenom/cuda/base/cuda_base.cpp:\u001b[m\u001b[K In function ‘\u001b[01m\u001b[K__pyx_obj_5renom_4cuda_4base_9cuda_base_GPUHeap* __pyx_f_5renom_4cuda_4base_9cuda_base_12GpuAllocator_getAvailablePool(__pyx_obj_5renom_4cuda_4base_9cuda_base_GpuAllocator*, size_t, int)\u001b[m\u001b[K’:\n",
            "\u001b[01m\u001b[Krenom/cuda/base/cuda_base.cpp:12545:53:\u001b[m\u001b[K \u001b[01;35m\u001b[Kwarning: \u001b[m\u001b[Kcomparison between signed and unsigned integer expressions [\u001b[01;35m\u001b[K-Wsign-compare\u001b[m\u001b[K]\n",
            "           for (__pyx_t_11 = __pyx_v_idx; \u001b[01;35m\u001b[K__pyx_t_11 < __pyx_t_13\u001b[m\u001b[K; __pyx_t_11+=1) {\n",
            "                                          \u001b[01;35m\u001b[K~~~~~~~~~~~^~~~~~~~~~~~\u001b[m\u001b[K\n",
            "\u001b[01m\u001b[Krenom/cuda/base/cuda_base.cpp:\u001b[m\u001b[K In function ‘\u001b[01m\u001b[KPyObject* __Pyx_PyInt_From_CUcontext(CUcontext)\u001b[m\u001b[K’:\n",
            "\u001b[01m\u001b[Krenom/cuda/base/cuda_base.cpp:21784:72:\u001b[m\u001b[K \u001b[01;31m\u001b[Kerror: \u001b[m\u001b[Kinvalid use of incomplete type ‘\u001b[01m\u001b[Kstruct CUctx_st\u001b[m\u001b[K’\n",
            "     const CUcontext neg_one = (CUcontext) ((CUcontext) 0 - (CUcontext) \u001b[01;31m\u001b[K1\u001b[m\u001b[K), const_zero = (CUcontext) 0;\n",
            "                                                                        \u001b[01;31m\u001b[K^\u001b[m\u001b[K\n",
            "In file included from \u001b[01m\u001b[Krenom/cuda/base/cuda_base.cpp:612:0\u001b[m\u001b[K:\n",
            "\u001b[01m\u001b[K/usr/local/cuda/include/cuda.h:253:16:\u001b[m\u001b[K \u001b[01;36m\u001b[Knote: \u001b[m\u001b[Kforward declaration of ‘\u001b[01m\u001b[Kstruct CUctx_st\u001b[m\u001b[K’\n",
            " typedef struct \u001b[01;36m\u001b[KCUctx_st\u001b[m\u001b[K *CUcontext;                       /**< CUDA context */\n",
            "                \u001b[01;36m\u001b[K^~~~~~~~\u001b[m\u001b[K\n",
            "\u001b[01m\u001b[Krenom/cuda/base/cuda_base.cpp:21785:39:\u001b[m\u001b[K \u001b[01;31m\u001b[Kerror: \u001b[m\u001b[K‘\u001b[01m\u001b[Kconst_zero\u001b[m\u001b[K’ was not declared in this scope\n",
            "     const int is_unsigned = neg_one > \u001b[01;31m\u001b[Kconst_zero\u001b[m\u001b[K;\n",
            "                                       \u001b[01;31m\u001b[K^~~~~~~~~~\u001b[m\u001b[K\n",
            "\u001b[01m\u001b[Krenom/cuda/base/cuda_base.cpp:21785:39:\u001b[m\u001b[K \u001b[01;36m\u001b[Knote: \u001b[m\u001b[Ksuggested alternative: ‘\u001b[01m\u001b[Kconstchar\u001b[m\u001b[K’\n",
            "     const int is_unsigned = neg_one > \u001b[01;36m\u001b[Kconst_zero\u001b[m\u001b[K;\n",
            "                                       \u001b[01;36m\u001b[K^~~~~~~~~~\u001b[m\u001b[K\n",
            "                                       \u001b[32m\u001b[Kconstchar\u001b[m\u001b[K\n",
            "\u001b[01m\u001b[Krenom/cuda/base/cuda_base.cpp:21809:47:\u001b[m\u001b[K \u001b[01;31m\u001b[Kerror: \u001b[m\u001b[Kin argument to unary !\n",
            "                                      little, !\u001b[01;31m\u001b[Kis_unsigned\u001b[m\u001b[K);\n",
            "                                               \u001b[01;31m\u001b[K^~~~~~~~~~~\u001b[m\u001b[K\n",
            "\u001b[01m\u001b[Krenom/cuda/base/cuda_base.cpp:\u001b[m\u001b[K At global scope:\n",
            "\u001b[01m\u001b[Krenom/cuda/base/cuda_base.cpp:7232:18:\u001b[m\u001b[K \u001b[01;35m\u001b[Kwarning: \u001b[m\u001b[K‘\u001b[01m\u001b[KPyObject* __pyx_f_5renom_4cuda_4base_9cuda_base_printPtrSum()\u001b[m\u001b[K’ defined but not used [\u001b[01;35m\u001b[K-Wunused-function\u001b[m\u001b[K]\n",
            " static PyObject *\u001b[01;35m\u001b[K__pyx_f_5renom_4cuda_4base_9cuda_base_printPtrSum\u001b[m\u001b[K(void) {\n",
            "                  \u001b[01;35m\u001b[K^~~~~~~~~~~~~~~~~~~~~~~~~~~~~~~~~~~~~~~~~~~~~~~~~\u001b[m\u001b[K\n",
            "\u001b[01m\u001b[Krenom/cuda/base/cuda_base.cpp:7097:13:\u001b[m\u001b[K \u001b[01;35m\u001b[Kwarning: \u001b[m\u001b[K‘\u001b[01m\u001b[Kvoid __pyx_f_5renom_4cuda_4base_9cuda_base_cuMemcpyH2DAsync(void*, uintptr_t, int, uintptr_t)\u001b[m\u001b[K’ defined but not used [\u001b[01;35m\u001b[K-Wunused-function\u001b[m\u001b[K]\n",
            " static void \u001b[01;35m\u001b[K__pyx_f_5renom_4cuda_4base_9cuda_base_cuMemcpyH2DAsync\u001b[m\u001b[K(void *__pyx_v_cpu_ptr, uintptr_t __pyx_v_gpu_ptr, int __pyx_v_size, uintptr_t __pyx_v_stream) {\n",
            "             \u001b[01;35m\u001b[K^~~~~~~~~~~~~~~~~~~~~~~~~~~~~~~~~~~~~~~~~~~~~~~~~~~~~~\u001b[m\u001b[K\n",
            "\u001b[01m\u001b[Krenom/cuda/base/cuda_base.cpp:6904:18:\u001b[m\u001b[K \u001b[01;35m\u001b[Kwarning: \u001b[m\u001b[K‘\u001b[01m\u001b[KPyObject* __pyx_f_5renom_4cuda_4base_9cuda_base_cuMemcpyD2Hvar(uintptr_t, void*, int, uintptr_t)\u001b[m\u001b[K’ defined but not used [\u001b[01;35m\u001b[K-Wunused-function\u001b[m\u001b[K]\n",
            " static PyObject *\u001b[01;35m\u001b[K__pyx_f_5renom_4cuda_4base_9cuda_base_cuMemcpyD2Hvar\u001b[m\u001b[K(uintptr_t __pyx_v_gpu_ptr, void *__pyx_v_cpu_ptr, int __pyx_v_size, CYTHON_UNUSED uintptr_t __pyx_v_stream) {\n",
            "                  \u001b[01;35m\u001b[K^~~~~~~~~~~~~~~~~~~~~~~~~~~~~~~~~~~~~~~~~~~~~~~~~~~~\u001b[m\u001b[K\n",
            "\u001b[01m\u001b[Krenom/cuda/base/cuda_base.cpp:4081:18:\u001b[m\u001b[K \u001b[01;35m\u001b[Kwarning: \u001b[m\u001b[K‘\u001b[01m\u001b[KPyObject* __pyx_f_5renom_4cuda_4base_9cuda_base_pinPointer(void*, size_t)\u001b[m\u001b[K’ defined but not used [\u001b[01;35m\u001b[K-Wunused-function\u001b[m\u001b[K]\n",
            " static PyObject *\u001b[01;35m\u001b[K__pyx_f_5renom_4cuda_4base_9cuda_base_pinPointer\u001b[m\u001b[K(void *__pyx_v_cpu_ptr, size_t __pyx_v_nbytes) {\n",
            "                  \u001b[01;35m\u001b[K^~~~~~~~~~~~~~~~~~~~~~~~~~~~~~~~~~~~~~~~~~~~~~~~\u001b[m\u001b[K\n",
            "error: command 'x86_64-linux-gnu-gcc' failed with exit status 1\n"
          ],
          "name": "stdout"
        }
      ]
    },
    {
      "cell_type": "code",
      "metadata": {
        "id": "ku0ZXhkU7E5b",
        "colab_type": "code",
        "colab": {
          "base_uri": "https://localhost:8080/",
          "height": 485
        },
        "outputId": "0f8bffb0-21c2-477a-9c94-0355a7c294e1"
      },
      "source": [
        "!pip install -e ."
      ],
      "execution_count": 32,
      "outputs": [
        {
          "output_type": "stream",
          "text": [
            "Obtaining file:///content/git/ReNom\n",
            "Requirement already satisfied: numpy in /usr/local/lib/python3.6/dist-packages (from renom==2.7.3) (1.16.4)\n",
            "Requirement already satisfied: scikit-image in /usr/local/lib/python3.6/dist-packages (from renom==2.7.3) (0.15.0)\n",
            "Requirement already satisfied: scikit-learn in /usr/local/lib/python3.6/dist-packages (from renom==2.7.3) (0.21.2)\n",
            "Requirement already satisfied: Cython>=0.24.0 in /usr/local/lib/python3.6/dist-packages (from renom==2.7.3) (0.29.10)\n",
            "Requirement already satisfied: Pillow in /usr/local/lib/python3.6/dist-packages (from renom==2.7.3) (4.3.0)\n",
            "Requirement already satisfied: future in /usr/local/lib/python3.6/dist-packages (from renom==2.7.3) (0.16.0)\n",
            "Requirement already satisfied: matplotlib!=3.0.0,>=2.0.0 in /usr/local/lib/python3.6/dist-packages (from scikit-image->renom==2.7.3) (3.0.3)\n",
            "Requirement already satisfied: PyWavelets>=0.4.0 in /usr/local/lib/python3.6/dist-packages (from scikit-image->renom==2.7.3) (1.0.3)\n",
            "Requirement already satisfied: imageio>=2.0.1 in /usr/local/lib/python3.6/dist-packages (from scikit-image->renom==2.7.3) (2.4.1)\n",
            "Requirement already satisfied: networkx>=2.0 in /usr/local/lib/python3.6/dist-packages (from scikit-image->renom==2.7.3) (2.3)\n",
            "Requirement already satisfied: scipy>=0.17.0 in /usr/local/lib/python3.6/dist-packages (from scikit-image->renom==2.7.3) (1.3.0)\n",
            "Requirement already satisfied: joblib>=0.11 in /usr/local/lib/python3.6/dist-packages (from scikit-learn->renom==2.7.3) (0.13.2)\n",
            "Requirement already satisfied: olefile in /usr/local/lib/python3.6/dist-packages (from Pillow->renom==2.7.3) (0.46)\n",
            "Requirement already satisfied: cycler>=0.10 in /usr/local/lib/python3.6/dist-packages (from matplotlib!=3.0.0,>=2.0.0->scikit-image->renom==2.7.3) (0.10.0)\n",
            "Requirement already satisfied: kiwisolver>=1.0.1 in /usr/local/lib/python3.6/dist-packages (from matplotlib!=3.0.0,>=2.0.0->scikit-image->renom==2.7.3) (1.1.0)\n",
            "Requirement already satisfied: pyparsing!=2.0.4,!=2.1.2,!=2.1.6,>=2.0.1 in /usr/local/lib/python3.6/dist-packages (from matplotlib!=3.0.0,>=2.0.0->scikit-image->renom==2.7.3) (2.4.0)\n",
            "Requirement already satisfied: python-dateutil>=2.1 in /usr/local/lib/python3.6/dist-packages (from matplotlib!=3.0.0,>=2.0.0->scikit-image->renom==2.7.3) (2.5.3)\n",
            "Requirement already satisfied: decorator>=4.3.0 in /usr/local/lib/python3.6/dist-packages (from networkx>=2.0->scikit-image->renom==2.7.3) (4.4.0)\n",
            "Requirement already satisfied: six in /usr/local/lib/python3.6/dist-packages (from cycler>=0.10->matplotlib!=3.0.0,>=2.0.0->scikit-image->renom==2.7.3) (1.12.0)\n",
            "Requirement already satisfied: setuptools in /usr/local/lib/python3.6/dist-packages (from kiwisolver>=1.0.1->matplotlib!=3.0.0,>=2.0.0->scikit-image->renom==2.7.3) (41.0.1)\n",
            "Installing collected packages: renom\n",
            "  Running setup.py develop for renom\n",
            "\u001b[31mERROR: Command \"/usr/bin/python3 -c 'import setuptools, tokenize;__file__='\"'\"'/content/git/ReNom/setup.py'\"'\"';f=getattr(tokenize, '\"'\"'open'\"'\"', open)(__file__);code=f.read().replace('\"'\"'\\r\\n'\"'\"', '\"'\"'\\n'\"'\"');f.close();exec(compile(code, __file__, '\"'\"'exec'\"'\"'))' develop --no-deps\" failed with error code 1 in /content/git/ReNom/\u001b[0m\n"
          ],
          "name": "stdout"
        }
      ]
    }
  ]
}