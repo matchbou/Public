{
  "nbformat": 4,
  "nbformat_minor": 0,
  "metadata": {
    "colab": {
      "name": "pulp_intro.ipynb",
      "provenance": [],
      "collapsed_sections": [],
      "include_colab_link": true
    },
    "kernelspec": {
      "name": "python3",
      "display_name": "Python 3"
    }
  },
  "cells": [
    {
      "cell_type": "markdown",
      "metadata": {
        "id": "view-in-github",
        "colab_type": "text"
      },
      "source": [
        "<a href=\"https://colab.research.google.com/github/matchbou/Public/blob/master/pulp_intro_20200813aa.ipynb\" target=\"_parent\"><img src=\"https://colab.research.google.com/assets/colab-badge.svg\" alt=\"Open In Colab\"/></a>"
      ]
    },
    {
      "cell_type": "markdown",
      "metadata": {
        "id": "EKI1kvvUSXk1",
        "colab_type": "text"
      },
      "source": [
        "# 整数線形最適化モジュールPuLPの簡単な紹介"
      ]
    },
    {
      "cell_type": "markdown",
      "metadata": {
        "id": "zDiZ11lzSgk0",
        "colab_type": "text"
      },
      "source": [
        "ここでは，Pythonで使える線形整数最適化モジュール[PuLP](https://pythonhosted.org/PuLP/)を紹介する．\n",
        "以下では，Python3とGoogle colaboratoryを使うことを仮定する．"
      ]
    },
    {
      "cell_type": "markdown",
      "metadata": {
        "id": "yo4PHijlLv_4",
        "colab_type": "text"
      },
      "source": [
        "最初にPuLPをimportする．"
      ]
    },
    {
      "cell_type": "code",
      "metadata": {
        "colab_type": "code",
        "id": "euOfq301MaPI",
        "colab": {
          "base_uri": "https://localhost:8080/",
          "height": 304
        },
        "outputId": "c0a5f3e9-b2ea-4696-ce95-11356912d9d9"
      },
      "source": [
        "import pulp"
      ],
      "execution_count": null,
      "outputs": [
        {
          "output_type": "error",
          "ename": "ModuleNotFoundError",
          "evalue": "ignored",
          "traceback": [
            "\u001b[0;31m---------------------------------------------------------------------------\u001b[0m",
            "\u001b[0;31mModuleNotFoundError\u001b[0m                       Traceback (most recent call last)",
            "\u001b[0;32m<ipython-input-1-a8a2163551b6>\u001b[0m in \u001b[0;36m<module>\u001b[0;34m()\u001b[0m\n\u001b[0;32m----> 1\u001b[0;31m \u001b[0;32mimport\u001b[0m \u001b[0mpulp\u001b[0m\u001b[0;34m\u001b[0m\u001b[0;34m\u001b[0m\u001b[0m\n\u001b[0m",
            "\u001b[0;31mModuleNotFoundError\u001b[0m: No module named 'pulp'",
            "",
            "\u001b[0;31m---------------------------------------------------------------------------\u001b[0;32m\nNOTE: If your import is failing due to a missing package, you can\nmanually install dependencies using either !pip or !apt.\n\nTo view examples of installing some common dependencies, click the\n\"Open Examples\" button below.\n\u001b[0;31m---------------------------------------------------------------------------\u001b[0m\n"
          ]
        }
      ]
    },
    {
      "cell_type": "markdown",
      "metadata": {
        "id": "NwH-vcLmMZjd",
        "colab_type": "text"
      },
      "source": [
        "2019年9月現在，Google colaboratoryにはモジュールPuLPはインストールされていない．\n",
        "よってまず，モジュールPuLPをインストールする．\n",
        "\n",
        "Google colaboratoryでは!を最初につけることによってUNIXコマンドを実行できる．"
      ]
    },
    {
      "cell_type": "code",
      "metadata": {
        "id": "zm4Q6PksMKyL",
        "colab_type": "code",
        "colab": {
          "base_uri": "https://localhost:8080/",
          "height": 204
        },
        "outputId": "c8eb400b-3a5e-405c-86a8-a3efc0630067"
      },
      "source": [
        "!pip install pulp"
      ],
      "execution_count": null,
      "outputs": [
        {
          "output_type": "stream",
          "text": [
            "Collecting pulp\n",
            "\u001b[?25l  Downloading https://files.pythonhosted.org/packages/2d/33/3ae6d9d2ac8c7068937af6372fd8828ac605e62a8b17106fe57110930d38/PuLP-1.6.10.zip (13.6MB)\n",
            "\u001b[K     |████████████████████████████████| 13.6MB 2.9MB/s \n",
            "\u001b[?25hRequirement already satisfied: pyparsing>=2.0.1 in /usr/local/lib/python3.6/dist-packages (from pulp) (2.4.2)\n",
            "Building wheels for collected packages: pulp\n",
            "  Building wheel for pulp (setup.py) ... \u001b[?25l\u001b[?25hdone\n",
            "  Created wheel for pulp: filename=PuLP-1.6.10-cp36-none-any.whl size=12269903 sha256=f65ca5a9f4d49f04f5feb9006ad702b784aea9f1cab127b2d6f23f3f0809aae9\n",
            "  Stored in directory: /root/.cache/pip/wheels/5e/76/77/e28b22219e46e3b4b033f02e8b36b2770ae545bdcf60c2b224\n",
            "Successfully built pulp\n",
            "Installing collected packages: pulp\n",
            "Successfully installed pulp-1.6.10\n"
          ],
          "name": "stdout"
        }
      ]
    },
    {
      "cell_type": "markdown",
      "metadata": {
        "id": "4T39E-A4M0N_",
        "colab_type": "text"
      },
      "source": [
        "インストールが完了したら，改めてPuLPをimportする．"
      ]
    },
    {
      "cell_type": "code",
      "metadata": {
        "id": "SxZQ3BnqMYgE",
        "colab_type": "code",
        "colab": {}
      },
      "source": [
        "import pulp"
      ],
      "execution_count": null,
      "outputs": []
    },
    {
      "cell_type": "markdown",
      "metadata": {
        "colab_type": "text",
        "id": "qyoxxmSETqeB"
      },
      "source": [
        "今度はimportできた．\n",
        "\n",
        "PuLPを使う準備ができたので，いくつか最適化問題を解いてみたい．"
      ]
    },
    {
      "cell_type": "markdown",
      "metadata": {
        "id": "BmLGoLyCUAw5",
        "colab_type": "text"
      },
      "source": [
        "## PuLPで線形最適化問題を解いてみる"
      ]
    },
    {
      "cell_type": "markdown",
      "metadata": {
        "colab_type": "text",
        "id": "7Vl9rad9TH6U"
      },
      "source": [
        "\n",
        "\n",
        "まず，以下の線形最適化問題\n",
        "\\begin{align*}\n",
        "\\text{max.} \\quad & 3 x + 4 y + 2 z \\\\\n",
        "\\text{s. t.} \\quad & 2 x \\le 4, \\\\\n",
        "& x + 2 z \\le 8, \\\\\n",
        "& 3 y + z \\le 6, \\\\\n",
        "& x \\ge 0, \\ y \\ge 0, \\ z \\ge 0,\n",
        "\\end{align*}\n",
        "を解いてみる．"
      ]
    },
    {
      "cell_type": "markdown",
      "metadata": {
        "id": "PT_YDR3FM6Tt",
        "colab_type": "text"
      },
      "source": [
        "すでにPuLPをimportしているので，PuLPのメソッドLpProblemを用いて，線形最適化問題のinstanceを作る．\n",
        "そして作ったinstanceの名前をlpとする．"
      ]
    },
    {
      "cell_type": "code",
      "metadata": {
        "id": "4Yoa9ghqMh-J",
        "colab_type": "code",
        "colab": {}
      },
      "source": [
        "lp = pulp.LpProblem(name='Linear optimization: an example', sense=pulp.LpMaximize)"
      ],
      "execution_count": null,
      "outputs": []
    },
    {
      "cell_type": "markdown",
      "metadata": {
        "id": "R-hcTocQVgKl",
        "colab_type": "text"
      },
      "source": [
        "最大化問題か最小化問題かは引数senseで指定する．\n",
        "最大化問題にしたいときはpulp.LpMaximize，最小化問題にしたいときはpulp.LpMinimizeを指定する．\n",
        "なお，引数senseの指定を省略するとデフォルト値のpulp.LpMinimizeが適用されるようである．\n",
        "\n",
        "さらに，上記の例では問題の名前も引数nameで指定している．\n",
        "\n",
        "次に，PuLPのメソッドLpVariableを用いて，線形最適化問題の変数のinstanceを作る．"
      ]
    },
    {
      "cell_type": "code",
      "metadata": {
        "id": "4UQG5FqxNXUa",
        "colab_type": "code",
        "colab": {}
      },
      "source": [
        "x = pulp.LpVariable(name='x', lowBound=0)\n",
        "y = pulp.LpVariable(name='y', lowBound=0)\n",
        "z = pulp.LpVariable(name='z', lowBound=0)"
      ],
      "execution_count": null,
      "outputs": []
    },
    {
      "cell_type": "markdown",
      "metadata": {
        "id": "WJQuJoT9W6Fc",
        "colab_type": "text"
      },
      "source": [
        "引数lowBoundは変数の値の下限である．\n",
        "線形最適化問題を記述する際は通常，変数の下限・上限も制約式として記述する．\n",
        "しかし多くの最適化ソフトウェアでは，変数を設定する際に下限・上限も設定できる．\n",
        "PuLPも例外ではないようだ．\n",
        "\n",
        "次に，問題lpに目的関数を加える．"
      ]
    },
    {
      "cell_type": "code",
      "metadata": {
        "id": "1BHslum0OCUt",
        "colab_type": "code",
        "colab": {}
      },
      "source": [
        "lp += 3 * x + 4 * y + 2 * z"
      ],
      "execution_count": null,
      "outputs": []
    },
    {
      "cell_type": "markdown",
      "metadata": {
        "id": "0wcJn3QTXgjZ",
        "colab_type": "text"
      },
      "source": [
        "問題に線形式（の表現）を加えると，最初のものが目的関数として設定されるようだ．\n",
        "\n",
        "次に，問題lpに制約を加える．"
      ]
    },
    {
      "cell_type": "code",
      "metadata": {
        "id": "f3Rh8UaYOfxs",
        "colab_type": "code",
        "colab": {}
      },
      "source": [
        "lp += 2 * x <= 4\n",
        "lp += x + 2 * z <= 8\n",
        "lp += 3 * y + z <= 6"
      ],
      "execution_count": null,
      "outputs": []
    },
    {
      "cell_type": "markdown",
      "metadata": {
        "id": "4UxVmJHcX4xG",
        "colab_type": "text"
      },
      "source": [
        "続けて問題lpに線形不等式（あるいは等式）を加えると，制約として追加できる．\n",
        "これで問題lpの設定は完了である．\n",
        "\n",
        "問題lpをPythonの組み込み関数printで表示してみる．"
      ]
    },
    {
      "cell_type": "code",
      "metadata": {
        "id": "F6Bcm0SAO4QG",
        "colab_type": "code",
        "colab": {
          "base_uri": "https://localhost:8080/",
          "height": 272
        },
        "outputId": "ecb00ef7-970c-4734-d32e-0570d391ecef"
      },
      "source": [
        "print(lp)"
      ],
      "execution_count": null,
      "outputs": [
        {
          "output_type": "stream",
          "text": [
            "Linear optimization: an example:\n",
            "MAXIMIZE\n",
            "3*x + 4*y + 2*z + 0\n",
            "SUBJECT TO\n",
            "_C1: 2 x <= 4\n",
            "\n",
            "_C2: x + 2 z <= 8\n",
            "\n",
            "_C3: 3 y + z <= 6\n",
            "\n",
            "VARIABLES\n",
            "x Continuous\n",
            "y Continuous\n",
            "z Continuous\n",
            "\n"
          ],
          "name": "stdout"
        }
      ]
    },
    {
      "cell_type": "markdown",
      "metadata": {
        "id": "EkTIMU_QYRIv",
        "colab_type": "text"
      },
      "source": [
        "どうやら，こういう形式で表示されるようだ．\n",
        "\n",
        "問題を設定（あるいは入力）できたので，最適解を求めてみる．\n",
        "最適化のメソッドはsolveである．"
      ]
    },
    {
      "cell_type": "code",
      "metadata": {
        "id": "VUhygc4rPGHX",
        "colab_type": "code",
        "colab": {
          "base_uri": "https://localhost:8080/",
          "height": 34
        },
        "outputId": "eb7a615f-d959-4ee6-802a-80f7ba387377"
      },
      "source": [
        "lp.solve()"
      ],
      "execution_count": null,
      "outputs": [
        {
          "output_type": "execute_result",
          "data": {
            "text/plain": [
              "1"
            ]
          },
          "metadata": {
            "tags": []
          },
          "execution_count": 9
        }
      ]
    },
    {
      "cell_type": "markdown",
      "metadata": {
        "id": "U4r6EgTSY_WI",
        "colab_type": "text"
      },
      "source": [
        "最適解が得られると，戻り値として1が返ってくるようである． \n",
        "問題の設定によっては「解がない」「解はあるけれど際限なく最大化（あるいは最小化）できる」ということもある．\n",
        "それらの場合に返ってくる値は[LpStatus](https://pythonhosted.org/PuLP/constants.html)\n",
        "を参照していただきたい．\n",
        "\n",
        "最後に，最適解を表示する．\n",
        "最適解は変数のメソッドvalueで得られる．"
      ]
    },
    {
      "cell_type": "code",
      "metadata": {
        "id": "fQfwvVh5PY9Z",
        "colab_type": "code",
        "colab": {
          "base_uri": "https://localhost:8080/",
          "height": 34
        },
        "outputId": "234447f1-5a75-48ac-b69d-57990e8bc99c"
      },
      "source": [
        "print(x.value(), y.value(), z.value())"
      ],
      "execution_count": null,
      "outputs": [
        {
          "output_type": "stream",
          "text": [
            "2.0 1.0 3.0\n"
          ],
          "name": "stdout"
        }
      ]
    },
    {
      "cell_type": "markdown",
      "metadata": {
        "id": "jJZIKCVpZVW0",
        "colab_type": "text"
      },
      "source": [
        "地味だが，最適解を確認できた．\n",
        "\n",
        "最適値は最適解から簡単に得られる．"
      ]
    },
    {
      "cell_type": "markdown",
      "metadata": {
        "id": "014vT25iVFZD",
        "colab_type": "text"
      },
      "source": [
        "## 次に整数最適化問題を解いてみる"
      ]
    },
    {
      "cell_type": "markdown",
      "metadata": {
        "id": "3UiIpQtH-74s",
        "colab_type": "text"
      },
      "source": [
        "次は以下の整数最適化問題\n",
        "\\begin{align*}\n",
        "\\text{max.}\\quad & 16 x_1 + 19 x_2 + 23 x_3 + 28 x_4 \\\\\n",
        "\\text{s. t.}\\quad & 2 x_1 + 3 x_2 + 4 x_3 + 5 x_4 \\le 7, \\\\\n",
        "& x_i \\in \\mathbb{Z}_{\\ge 0} \\qquad (i=1, 2, 3, 4),\n",
        "\\end{align*}\n",
        "を解いてみる．\n",
        "ここで$\\mathbb{Z}_{\\ge 0}$は非負整数の集合である．\n",
        "この問題は俗にナップサック問題とよばれるものの一例である．\n",
        "\n",
        "今度は問題のinstanceをknapという名前にする．\n",
        "問題と変数のinstanceを作る．"
      ]
    },
    {
      "cell_type": "code",
      "metadata": {
        "id": "ztGbX6t1iiuY",
        "colab_type": "code",
        "colab": {}
      },
      "source": [
        "knap = pulp.LpProblem(name='0-1 knapsack problem', sense=pulp.LpMaximize)"
      ],
      "execution_count": null,
      "outputs": []
    },
    {
      "cell_type": "code",
      "metadata": {
        "id": "t7JqOnv6jBER",
        "colab_type": "code",
        "colab": {}
      },
      "source": [
        "x1 = pulp.LpVariable(name='x1', cat='Integer', lowBound=0)\n",
        "x2 = pulp.LpVariable(name='x2', cat='Integer', lowBound=0)\n",
        "x3 = pulp.LpVariable(name='x3', cat='Integer', lowBound=0)\n",
        "x4 = pulp.LpVariable(name='x4', cat='Integer', lowBound=0)"
      ],
      "execution_count": null,
      "outputs": []
    },
    {
      "cell_type": "markdown",
      "metadata": {
        "id": "XGLxnYan_0a0",
        "colab_type": "text"
      },
      "source": [
        "メソッドLpVariableの引数catは変数の種類である．\n",
        "連続変数はContinuous，整数変数はInteger，0-1変数はBinaryである．\n",
        "省略するとデフォルト値のContinuousが適用されるみたいである．\n",
        "よって先程の線形最適化問題の場合には上手くいっていた．\n",
        "\n",
        "次に制約を加えて問題を表示する．"
      ]
    },
    {
      "cell_type": "code",
      "metadata": {
        "id": "74sSPk4XjaFd",
        "colab_type": "code",
        "colab": {}
      },
      "source": [
        "knap += 16 * x1 + 19 * x2 + 23 * x3 + 28 * x4\n",
        "knap += 2 * x1 + 3 * x2 + 4 * x3 + 5 * x4 <= 7"
      ],
      "execution_count": null,
      "outputs": []
    },
    {
      "cell_type": "code",
      "metadata": {
        "id": "yPHz8W7ejx2d",
        "colab_type": "code",
        "colab": {
          "base_uri": "https://localhost:8080/",
          "height": 221
        },
        "outputId": "6853c278-bef4-40f9-ab58-cce88fdb6c32"
      },
      "source": [
        "print(knap)"
      ],
      "execution_count": null,
      "outputs": [
        {
          "output_type": "stream",
          "text": [
            "Knapsack problem:\n",
            "MAXIMIZE\n",
            "16*x1 + 19*x2 + 23*x3 + 28*x4 + 0\n",
            "SUBJECT TO\n",
            "_C1: 2 x1 + 3 x2 + 4 x3 + 5 x4 <= 7\n",
            "\n",
            "VARIABLES\n",
            "0 <= x1 Integer\n",
            "0 <= x2 Integer\n",
            "0 <= x3 Integer\n",
            "0 <= x4 Integer\n",
            "\n"
          ],
          "name": "stdout"
        }
      ]
    },
    {
      "cell_type": "markdown",
      "metadata": {
        "id": "i0YbfjfOASjY",
        "colab_type": "text"
      },
      "source": [
        "さらに最適化して，得られた最適解も確認する．"
      ]
    },
    {
      "cell_type": "code",
      "metadata": {
        "id": "i-lg51Okj2tC",
        "colab_type": "code",
        "colab": {
          "base_uri": "https://localhost:8080/",
          "height": 34
        },
        "outputId": "9109538c-b700-4a11-8de2-728c290106c9"
      },
      "source": [
        "knap.solve()"
      ],
      "execution_count": null,
      "outputs": [
        {
          "output_type": "execute_result",
          "data": {
            "text/plain": [
              "1"
            ]
          },
          "metadata": {
            "tags": []
          },
          "execution_count": 24
        }
      ]
    },
    {
      "cell_type": "code",
      "metadata": {
        "id": "3MNVHHe2kvja",
        "colab_type": "code",
        "colab": {
          "base_uri": "https://localhost:8080/",
          "height": 34
        },
        "outputId": "078a9f2e-e911-4598-af16-88fc863a9292"
      },
      "source": [
        "print(x1.value(), x2.value(), x3.value(), x4.value())"
      ],
      "execution_count": null,
      "outputs": [
        {
          "output_type": "stream",
          "text": [
            "2.0 1.0 0.0 0.0\n"
          ],
          "name": "stdout"
        }
      ]
    },
    {
      "cell_type": "markdown",
      "metadata": {
        "id": "4-L6sMQhU7bs",
        "colab_type": "text"
      },
      "source": [
        "今回はここまでとする．\n",
        "\n",
        "以下はまだ製作中なのでご勘弁願いたい．"
      ]
    },
    {
      "cell_type": "code",
      "metadata": {
        "id": "CMNC1eym9lfX",
        "colab_type": "code",
        "colab": {}
      },
      "source": [
        "import networkx as nx"
      ],
      "execution_count": null,
      "outputs": []
    },
    {
      "cell_type": "code",
      "metadata": {
        "id": "Jx4qfVRQm_bj",
        "colab_type": "code",
        "colab": {
          "base_uri": "https://localhost:8080/",
          "height": 34
        },
        "outputId": "3b12987b-4fab-4966-acf6-403d883dcee3"
      },
      "source": [
        "shortest_path.solve()"
      ],
      "execution_count": null,
      "outputs": [
        {
          "output_type": "execute_result",
          "data": {
            "text/plain": [
              "1"
            ]
          },
          "metadata": {
            "tags": []
          },
          "execution_count": 6
        }
      ]
    },
    {
      "cell_type": "code",
      "metadata": {
        "id": "4A12lQjFnBZr",
        "colab_type": "code",
        "colab": {
          "base_uri": "https://localhost:8080/",
          "height": 34
        },
        "outputId": "0fd2e8a7-354f-47b9-bb32-f3cf90bd6b9a"
      },
      "source": [
        "print(f'x12={x12.value()},  x13={x13.value()},  x23={x23.value()},  x24={x24.value()},  x34={x34.value()}')"
      ],
      "execution_count": null,
      "outputs": [
        {
          "output_type": "stream",
          "text": [
            "x12=1.0,  x13=0.0,  x23=1.0,  x24=0.0,  x34=1.0\n"
          ],
          "name": "stdout"
        }
      ]
    },
    {
      "cell_type": "code",
      "metadata": {
        "id": "uF45WPHenPNJ",
        "colab_type": "code",
        "colab": {
          "base_uri": "https://localhost:8080/",
          "height": 309
        },
        "outputId": "26e5ecd5-52f2-473c-90fd-d7eedd531954"
      },
      "source": [
        "G3 = nx.DiGraph()\n",
        "G3.add_edge(1, 2, weight=2)\n",
        "G3.add_edge(1, 3, weight=6)\n",
        "G3.add_edge(2, 3, weight=1)\n",
        "G3.add_edge(2, 4, weight=5)\n",
        "G3.add_edge(3, 4, weight=3)\n",
        "%matplotlib inline\n",
        "nx.draw_networkx(G3, pos=nx.drawing.layout.planar_layout(G3), font_color='w')\n",
        "_= nx.draw_networkx_edge_labels(G3, pos=nx.drawing.layout.planar_layout(G3), edge_labels=nx.get_edge_attributes(G3, 'weight'))  "
      ],
      "execution_count": null,
      "outputs": [
        {
          "output_type": "stream",
          "text": [
            "/usr/local/lib/python3.6/dist-packages/networkx/drawing/layout.py:923: FutureWarning: arrays to stack must be passed as a \"sequence\" type such as list or tuple. Support for non-sequence iterables such as generators is deprecated as of NumPy 1.16 and will raise an error in the future.\n",
            "  pos = np.row_stack((pos[x] for x in node_list))\n"
          ],
          "name": "stderr"
        },
        {
          "output_type": "display_data",
          "data": {
            "image/png": "[encoded data removed]",
            "text/plain": [
              "<Figure size 432x288 with 1 Axes>"
            ]
          },
          "metadata": {
            "tags": []
          }
        }
      ]
    },
    {
      "cell_type": "code",
      "metadata": {
        "id": "RBONxp9kpJ7b",
        "colab_type": "code",
        "colab": {
          "base_uri": "https://localhost:8080/",
          "height": 340
        },
        "outputId": "0c581a13-de04-42ec-d452-87b2bc056f10"
      },
      "source": [
        "shortest_path = pulp.LpProblem(name='Shortest path problem', sense=pulp.LpMinimize)\n",
        "x = {}\n",
        "for e in G3.edges():\n",
        "    x[e] = pulp.LpVariable(name=f'x{e}', cat='Continuous', lowBound=0, upBound=1)\n",
        "shortest_path += pulp.LpAffineExpression([(x[e], G3.edges[e]['weight']) for e in G3.edges()])\n",
        "for v in G3.nodes():\n",
        "    first_term = pulp.LpAffineExpression([(x[e], 1) for e in G3.in_edges(v)])\n",
        "    second_term = pulp.LpAffineExpression([(x[e], 1) for e in G3.out_edges(v)])\n",
        "    if v == 1:\n",
        "        right_hand_side = -1\n",
        "    elif v == 4:\n",
        "        right_hand_side = 1\n",
        "    else:\n",
        "        right_hand_side = 0\n",
        "    shortest_path += first_term - second_term == right_hand_side\n",
        "print(shortest_path)"
      ],
      "execution_count": null,
      "outputs": [
        {
          "output_type": "stream",
          "text": [
            "Shortest path problem:\n",
            "MINIMIZE\n",
            "2*x(1,_2) + 6*x(1,_3) + 1*x(2,_3) + 5*x(2,_4) + 3*x(3,_4) + 0\n",
            "SUBJECT TO\n",
            "_C1: - x(1,_2) - x(1,_3) = -1\n",
            "\n",
            "_C2: x(1,_2) - x(2,_3) - x(2,_4) = 0\n",
            "\n",
            "_C3: x(1,_3) + x(2,_3) - x(3,_4) = 0\n",
            "\n",
            "_C4: x(2,_4) + x(3,_4) = 1\n",
            "\n",
            "VARIABLES\n",
            "x(1,_2) <= 1 Continuous\n",
            "x(1,_3) <= 1 Continuous\n",
            "x(2,_3) <= 1 Continuous\n",
            "x(2,_4) <= 1 Continuous\n",
            "x(3,_4) <= 1 Continuous\n",
            "\n"
          ],
          "name": "stdout"
        }
      ]
    },
    {
      "cell_type": "code",
      "metadata": {
        "id": "GMEiAcotsnQG",
        "colab_type": "code",
        "colab": {
          "base_uri": "https://localhost:8080/",
          "height": 119
        },
        "outputId": "d663facf-366e-4aef-83aa-99882a11c0ca"
      },
      "source": [
        "shortest_path.solve()\n",
        "for 枝 in G3.edges():\n",
        "    print(f'枝は{枝}, 解は{x[枝].value()}')\n",
        "print(f'最適値は{sum([G3.edges[e][\"weight\"] * x[e].value() for e in G3.edges()])}')"
      ],
      "execution_count": null,
      "outputs": [
        {
          "output_type": "stream",
          "text": [
            "枝は(1, 2), 解は1.0\n",
            "枝は(1, 3), 解は0.0\n",
            "枝は(2, 3), 解は1.0\n",
            "枝は(2, 4), 解は-0.0\n",
            "枝は(3, 4), 解は1.0\n",
            "最適値は6.0\n"
          ],
          "name": "stdout"
        }
      ]
    },
    {
      "cell_type": "code",
      "metadata": {
        "id": "Mzzb9nbHvZ-J",
        "colab_type": "code",
        "colab": {}
      },
      "source": [
        ""
      ],
      "execution_count": null,
      "outputs": []
    },
    {
      "cell_type": "code",
      "metadata": {
        "id": "_iJws9EszkB0",
        "colab_type": "code",
        "colab": {
          "base_uri": "https://localhost:8080/",
          "height": 272
        },
        "outputId": "f3de9d94-5802-4605-e27a-c6133904c068"
      },
      "source": [
        "mst = pulp.LpProblem(name='Minimum spanning tree', sense=pulp.LpMinimize)\n",
        "x1 = pulp.LpVariable(name='x1', cat='Binary')\n",
        "x2 = pulp.LpVariable(name='x2', cat='Binary')\n",
        "x3 = pulp.LpVariable(name='x3', cat='Binary')\n",
        "x4 = pulp.LpVariable(name='x4', cat='Binary')\n",
        "x5 = pulp.LpVariable(name='x5', cat='Binary')\n",
        "mst += 2 * x1 + 3 * x2 + 5 * x3 + 4 * x4 + 1 * x5\n",
        "mst += x1 + x2 + x3 + x4 + x5 == 3\n",
        "#mst += x3 + x4 + x5 <= 2\n",
        "mst += x1 + x2 + x5 <= 2\n",
        "print(mst)"
      ],
      "execution_count": null,
      "outputs": [
        {
          "output_type": "stream",
          "text": [
            "Minimum spanning tree:\n",
            "MINIMIZE\n",
            "2*x1 + 3*x2 + 5*x3 + 4*x4 + 1*x5 + 0\n",
            "SUBJECT TO\n",
            "_C1: x1 + x2 + x3 + x4 + x5 = 3\n",
            "\n",
            "_C2: x1 + x2 + x5 <= 2\n",
            "\n",
            "VARIABLES\n",
            "0 <= x1 <= 1 Integer\n",
            "0 <= x2 <= 1 Integer\n",
            "0 <= x3 <= 1 Integer\n",
            "0 <= x4 <= 1 Integer\n",
            "0 <= x5 <= 1 Integer\n",
            "\n"
          ],
          "name": "stdout"
        }
      ]
    },
    {
      "cell_type": "code",
      "metadata": {
        "id": "uI9TGqJN0yef",
        "colab_type": "code",
        "colab": {
          "base_uri": "https://localhost:8080/",
          "height": 34
        },
        "outputId": "1e72c7f2-92ac-4175-abd2-630f9574f749"
      },
      "source": [
        "mst.solve()\n",
        "print(x1.value(), x2.value(), x3.value(), x4.value(), x5.value())"
      ],
      "execution_count": null,
      "outputs": [
        {
          "output_type": "stream",
          "text": [
            "1.0 0.0 0.0 1.0 1.0\n"
          ],
          "name": "stdout"
        }
      ]
    },
    {
      "cell_type": "code",
      "metadata": {
        "id": "kRpwF3RA1eui",
        "colab_type": "code",
        "colab": {}
      },
      "source": [
        ""
      ],
      "execution_count": null,
      "outputs": []
    },
    {
      "cell_type": "code",
      "metadata": {
        "id": "YkJQrY__69JE",
        "colab_type": "code",
        "colab": {
          "base_uri": "https://localhost:8080/",
          "height": 918
        },
        "outputId": "94652c4f-37b1-4826-ac2a-559876bdc602"
      },
      "source": [
        "mst_flow = pulp.LpProblem(name='Minimum spanning tree with flow', sense=pulp.LpMinimize)\n",
        "x1 = pulp.LpVariable(name='x1', cat='Binary')\n",
        "x2 = pulp.LpVariable(name='x2', cat='Binary')\n",
        "x3 = pulp.LpVariable(name='x3', cat='Binary')\n",
        "x4 = pulp.LpVariable(name='x4', cat='Binary')\n",
        "x5 = pulp.LpVariable(name='x5', cat='Binary')\n",
        "y12 = pulp.LpVariable(name='y12', lowBound=0)\n",
        "y21 = pulp.LpVariable(name='y21', lowBound=0)\n",
        "y13 = pulp.LpVariable(name='y13', lowBound=0)\n",
        "y31 = pulp.LpVariable(name='y31', lowBound=0)\n",
        "y14 = pulp.LpVariable(name='y14', lowBound=0)\n",
        "y41 = pulp.LpVariable(name='y41', lowBound=0)\n",
        "y24 = pulp.LpVariable(name='y24', lowBound=0)\n",
        "y42 = pulp.LpVariable(name='y42', lowBound=0)\n",
        "y34 = pulp.LpVariable(name='y34', lowBound=0)\n",
        "y43 = pulp.LpVariable(name='y43', lowBound=0)\n",
        "mst_flow += 2 * x1 + 3 * x2 + 5 * x3 + 4 * x4 + 1 * x5\n",
        "mst_flow += x1 + x2 + x3 + x4 + x5 == 3\n",
        "mst_flow += y12 <= 3 * x1\n",
        "mst_flow += y21 <= 3 * x1\n",
        "mst_flow += y13 <= 3 * x4\n",
        "mst_flow += y31 <= 3 * x4\n",
        "mst_flow += y14 <= 3 * x5\n",
        "mst_flow += y41 <= 3 * x5\n",
        "mst_flow += y24 <= 3 * x2\n",
        "mst_flow += y42 <= 3 * x2\n",
        "mst_flow += y34 <= 3 * x3\n",
        "mst_flow += y43 <= 3 * x3\n",
        "mst_flow += y12 <= 3 * x1\n",
        "mst_flow += y12 + y13 + y14 - y21 - y31 - y41 == 3\n",
        "mst_flow += y21 + y24 - y12 - y42 == -1\n",
        "mst_flow += y31 + y34 - y13 - y43 == -1\n",
        "mst_flow += y41 + y42 + y43 - y14 - y24 - y34 == -1\n",
        "print(mst_flow)"
      ],
      "execution_count": null,
      "outputs": [
        {
          "output_type": "stream",
          "text": [
            "Minimum spanning tree with flow:\n",
            "MINIMIZE\n",
            "2*x1 + 3*x2 + 5*x3 + 4*x4 + 1*x5 + 0\n",
            "SUBJECT TO\n",
            "_C1: x1 + x2 + x3 + x4 + x5 = 3\n",
            "\n",
            "_C2: - 3 x1 + y12 <= 0\n",
            "\n",
            "_C3: - 3 x1 + y21 <= 0\n",
            "\n",
            "_C4: - 3 x4 + y13 <= 0\n",
            "\n",
            "_C5: - 3 x4 + y31 <= 0\n",
            "\n",
            "_C6: - 3 x5 + y14 <= 0\n",
            "\n",
            "_C7: - 3 x5 + y41 <= 0\n",
            "\n",
            "_C8: - 3 x2 + y24 <= 0\n",
            "\n",
            "_C9: - 3 x2 + y42 <= 0\n",
            "\n",
            "_C10: - 3 x3 + y34 <= 0\n",
            "\n",
            "_C11: - 3 x3 + y43 <= 0\n",
            "\n",
            "_C12: - 3 x1 + y12 <= 0\n",
            "\n",
            "_C13: y12 + y13 + y14 - y21 - y31 - y41 = 3\n",
            "\n",
            "_C14: - y12 + y21 + y24 - y42 = -1\n",
            "\n",
            "_C15: - y13 + y31 + y34 - y43 = -1\n",
            "\n",
            "_C16: - y14 - y24 - y34 + y41 + y42 + y43 = -1\n",
            "\n",
            "VARIABLES\n",
            "0 <= x1 <= 1 Integer\n",
            "0 <= x2 <= 1 Integer\n",
            "0 <= x3 <= 1 Integer\n",
            "0 <= x4 <= 1 Integer\n",
            "0 <= x5 <= 1 Integer\n",
            "y12 Continuous\n",
            "y13 Continuous\n",
            "y14 Continuous\n",
            "y21 Continuous\n",
            "y24 Continuous\n",
            "y31 Continuous\n",
            "y34 Continuous\n",
            "y41 Continuous\n",
            "y42 Continuous\n",
            "y43 Continuous\n",
            "\n"
          ],
          "name": "stdout"
        }
      ]
    },
    {
      "cell_type": "code",
      "metadata": {
        "id": "ogE1acUQ8V7J",
        "colab_type": "code",
        "colab": {
          "base_uri": "https://localhost:8080/",
          "height": 34
        },
        "outputId": "61dfd601-57e9-4ef0-a723-ffb2029ce9b7"
      },
      "source": [
        "mst_flow.solve()\n",
        "print(x1.value(), x2.value(), x3.value(), x4.value(), x5.value())"
      ],
      "execution_count": null,
      "outputs": [
        {
          "output_type": "stream",
          "text": [
            "1.0 0.0 0.0 1.0 1.0\n"
          ],
          "name": "stdout"
        }
      ]
    },
    {
      "cell_type": "code",
      "metadata": {
        "id": "lHjwVnfm8fVk",
        "colab_type": "code",
        "colab": {
          "base_uri": "https://localhost:8080/",
          "height": 68
        },
        "outputId": "eb3a5309-b018-4f26-fec0-eb6ab7b2e1f9"
      },
      "source": [
        "print(f'y12: {y12.value()},    y21: {y21.value()},    y13: {y13.value()},    y31: {y31.value()}')\n",
        "print(f'y14: {y14.value()},    y41: {y41.value()},    y34: {y34.value()},    y43: {y43.value()}')\n",
        "print(f'y24: {y24.value()},    y42: {y42.value()}')"
      ],
      "execution_count": null,
      "outputs": [
        {
          "output_type": "stream",
          "text": [
            "y12: 3.0,    y21: 2.0,    y13: 0.0,    y31: -1.0\n",
            "y14: 3.0,    y41: 2.0,    y34: 0.0,    y43: 0.0\n",
            "y24: 3.0,    y42: 3.0\n"
          ],
          "name": "stdout"
        }
      ]
    },
    {
      "cell_type": "code",
      "metadata": {
        "id": "r_mgTcRt9jSw",
        "colab_type": "code",
        "colab": {}
      },
      "source": [
        ""
      ],
      "execution_count": null,
      "outputs": []
    }
  ]
}